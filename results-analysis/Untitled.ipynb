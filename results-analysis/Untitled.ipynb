{
 "cells": [
  {
   "cell_type": "code",
   "execution_count": null,
   "id": "07732a4e-6d7c-4d2c-8464-ed961b1115ae",
   "metadata": {},
   "outputs": [],
   "source": [
    "import os\n",
    "import pandas as pd\n",
    "from urllib.parse import unquote\n",
    "\n",
    "# 현재 디렉토리의 모든 .csv 파일 리스트 가져오기\n",
    "csv_files = [file for file in os.listdir('.') if file.endswith('.csv')]\n",
    "\n",
    "# 각 파일 읽기\n",
    "dataframes = []  # 배열로 변경\n",
    "for file in csv_files:\n",
    "    try:\n",
    "        df = pd.read_csv(file)\n",
    "        dataframes.append((file, df))  # 파일 이름과 데이터프레임을 튜플로 저장\n",
    "        print(f\"{file} 읽기 완료\")\n",
    "    except Exception as e:\n",
    "        print(f\"{file} 읽기 실패: {e}\")\n",
    "\n",
    "# 확인: 읽어온 데이터프레임 목록 출력\n",
    "print(f\"총 {len(dataframes)}개의 CSV 파일을 읽어왔습니다.\")"
   ]
  },
  {
   "cell_type": "code",
   "execution_count": null,
   "id": "ea726cda-8f91-47c0-96db-a0ce04d92d1c",
   "metadata": {},
   "outputs": [],
   "source": [
    "for file, df in dataframes:\n",
    "    print(f\"{len(df)} rows\")"
   ]
  },
  {
   "cell_type": "code",
   "execution_count": null,
   "id": "e252d403-76dc-4b2f-9b12-4e89a02d8d85",
   "metadata": {},
   "outputs": [],
   "source": [
    "def calculate_correct_answers(file_df_tuple):\n",
    "    \"\"\"\n",
    "    데이터프레임에서 'answer'와 'user_choice' 열이 같은 값을 세는 함수.\n",
    "    \"\"\"\n",
    "    file, df = file_df_tuple\n",
    "    if 'answer' in df.columns and 'user_choice' in df.columns:  # 열 확인\n",
    "        return (file, (df['answer'].str.lower() == df['user_choice'].str.lower()).sum())\n",
    "    else:\n",
    "        return (file, None)  # 열이 없으면 None 반환\n",
    "\n",
    "# map을 사용하여 데이터프레임 리스트에 적용\n",
    "results = map(calculate_correct_answers, dataframes)\n",
    "\n",
    "# 결과를 리스트로 변환\n",
    "results = list(results)\n",
    "\n",
    "# count 기준으로 정렬 (None 값은 맨 뒤로 이동)\n",
    "sorted_results = sorted(results, key=lambda x: (x[1] is None, x[1]), reverse=True)\n",
    "\n",
    "# 결과 출력\n",
    "for file, count in sorted_results:\n",
    "    if count is not None:\n",
    "        print(f\"{file}: 정답 수 = {count}, 비율 = {int(count / 225 * 100)}%\")\n",
    "    else:\n",
    "        print(f\"{file}: 'answer' 또는 'user_choice' 열이 없습니다.\")"
   ]
  },
  {
   "cell_type": "code",
   "execution_count": null,
   "id": "98aa580f-c3e6-47cf-ba70-55efa46c3ec4",
   "metadata": {},
   "outputs": [],
   "source": [
    "import seaborn as sns\n",
    "import matplotlib.pyplot as plt\n",
    "import warnings\n",
    "\n",
    "# 경고 무시 설정\n",
    "warnings.filterwarnings('ignore')\n",
    "\n",
    "# 유효한 count 값들만 추출\n",
    "valid_counts = [count for _, count in results if count is not None]\n",
    "\n",
    "# Seaborn을 사용하여 count 분포 시각화\n",
    "plt.figure(figsize=(10, 6))\n",
    "sns.histplot(valid_counts, bins=20, kde=True)\n",
    "\n",
    "# 그래프 제목과 레이블 설정\n",
    "plt.title('Count Distribution of Correct Answers')\n",
    "plt.xlabel('Number of Correct Answers')\n",
    "plt.ylabel('Frequency')\n",
    "\n",
    "# 그래프 출력\n",
    "plt.show()\n"
   ]
  },
  {
   "cell_type": "code",
   "execution_count": null,
   "id": "b92638e8-86a4-423e-8075-bb2c8d30b204",
   "metadata": {},
   "outputs": [],
   "source": []
  }
 ],
 "metadata": {
  "kernelspec": {
   "display_name": "Python 3 (ipykernel)",
   "language": "python",
   "name": "python3"
  },
  "language_info": {
   "codemirror_mode": {
    "name": "ipython",
    "version": 3
   },
   "file_extension": ".py",
   "mimetype": "text/x-python",
   "name": "python",
   "nbconvert_exporter": "python",
   "pygments_lexer": "ipython3",
   "version": "3.13.0"
  }
 },
 "nbformat": 4,
 "nbformat_minor": 5
}
