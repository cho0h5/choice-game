{
 "cells": [
  {
   "cell_type": "code",
   "execution_count": null,
   "id": "07732a4e-6d7c-4d2c-8464-ed961b1115ae",
   "metadata": {},
   "outputs": [],
   "source": [
    "import os\n",
    "import pandas as pd\n",
    "from urllib.parse import unquote\n",
    "\n",
    "# 현재 디렉토리의 모든 .csv 파일 리스트 가져오기\n",
    "csv_files = [file for file in os.listdir('.') if file.endswith('.csv')]\n",
    "\n",
    "# 각 파일 읽기\n",
    "dataframes = []  # 배열로 변경\n",
    "for file in csv_files:\n",
    "    try:\n",
    "        df = pd.read_csv(file)\n",
    "        dataframes.append((file, df))  # 파일 이름과 데이터프레임을 튜플로 저장\n",
    "        print(f\"{file} 읽기 완료\")\n",
    "    except Exception as e:\n",
    "        print(f\"{file} 읽기 실패: {e}\")\n",
    "\n",
    "# 확인: 읽어온 데이터프레임 목록 출력\n",
    "print(f\"총 {len(dataframes)}개의 CSV 파일을 읽어왔습니다.\")"
   ]
  },
  {
   "cell_type": "code",
   "execution_count": null,
   "id": "ea726cda-8f91-47c0-96db-a0ce04d92d1c",
   "metadata": {},
   "outputs": [],
   "source": [
    "for file, df in dataframes:\n",
    "    print(f\"{len(df)} rows\")"
   ]
  },
  {
   "cell_type": "code",
   "execution_count": null,
   "id": "e252d403-76dc-4b2f-9b12-4e89a02d8d85",
   "metadata": {},
   "outputs": [],
   "source": [
    "# 각 파일에서 answer와 user_choice가 같은 개수를 count (소문자로 변환 후 비교)\n",
    "for file, df in dataframes:\n",
    "    if 'answer' in df.columns and 'user_choice' in df.columns:  # 열 확인\n",
    "        # 소문자로 변환하여 비교\n",
    "        count = (df['answer'].str.lower() == df['user_choice'].str.lower()).sum()\n",
    "        print(f\"{file}: 정답 수 = {count}, {int(count / 225 * 100)}\")\n",
    "    else:\n",
    "        print(f\"{file}: 'answer' 또는 'user_choice' 열이 없습니다.\")"
   ]
  },
  {
   "cell_type": "code",
   "execution_count": null,
   "id": "98aa580f-c3e6-47cf-ba70-55efa46c3ec4",
   "metadata": {},
   "outputs": [],
   "source": []
  }
 ],
 "metadata": {
  "kernelspec": {
   "display_name": "Python 3 (ipykernel)",
   "language": "python",
   "name": "python3"
  },
  "language_info": {
   "codemirror_mode": {
    "name": "ipython",
    "version": 3
   },
   "file_extension": ".py",
   "mimetype": "text/x-python",
   "name": "python",
   "nbconvert_exporter": "python",
   "pygments_lexer": "ipython3",
   "version": "3.13.0"
  }
 },
 "nbformat": 4,
 "nbformat_minor": 5
}
